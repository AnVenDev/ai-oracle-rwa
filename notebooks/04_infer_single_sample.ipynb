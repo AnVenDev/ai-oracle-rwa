{
 "cells": [
  {
   "cell_type": "markdown",
   "id": "10c75f60-9ee0-42f9-9b6b-21c018a83790",
   "metadata": {},
   "source": [
    "### Imports & Paths"
   ]
  },
  {
   "cell_type": "code",
   "execution_count": 1,
   "id": "2d6afe71-a30b-4efa-b790-baab0312540d",
   "metadata": {},
   "outputs": [
    {
     "name": "stdout",
     "output_type": "stream",
     "text": [
      "Loaded paths OK.\n"
     ]
    }
   ],
   "source": [
    "import pandas as pd\n",
    "import numpy as np\n",
    "import joblib\n",
    "import json\n",
    "import os\n",
    "from datetime import datetime\n",
    "from pathlib import Path\n",
    "\n",
    "MODEL_DIR = Path(\"../models/property\")\n",
    "PIPELINE_PATH = MODEL_DIR / \"value_regressor_v1.joblib\"\n",
    "META_PATH = MODEL_DIR / \"value_regressor_v1_meta.json\"\n",
    "\n",
    "assert PIPELINE_PATH.exists(), f\"Missing pipeline file: {PIPELINE_PATH}\"\n",
    "assert META_PATH.exists(), f\"Missing metadata file: {META_PATH}\"\n",
    "\n",
    "print(\"Loaded paths OK.\")"
   ]
  },
  {
   "cell_type": "markdown",
   "id": "22e625d7-fa88-45b0-90fd-bc6e9dfa8dc0",
   "metadata": {},
   "source": [
    "### Load pipeline & metadata"
   ]
  },
  {
   "cell_type": "code",
   "execution_count": 2,
   "id": "343fc03a-0516-4d0e-b48f-bde2944caddc",
   "metadata": {},
   "outputs": [
    {
     "data": {
      "text/plain": [
       "{'asset_type': 'property',\n",
       " 'model_task': 'valuation_regression',\n",
       " 'model_version': 'v1',\n",
       " 'model_class': 'RandomForestRegressor',\n",
       " 'n_rows': 150,\n",
       " 'training_rows': 120,\n",
       " 'test_rows': 30,\n",
       " 'features_categorical': ['location',\n",
       "  'energy_class',\n",
       "  'has_elevator',\n",
       "  'has_garden',\n",
       "  'has_balcony',\n",
       "  'garage'],\n",
       " 'features_numeric': ['size_m2',\n",
       "  'rooms',\n",
       "  'bathrooms',\n",
       "  'year_built',\n",
       "  'floor',\n",
       "  'building_floors',\n",
       "  'humidity_level',\n",
       "  'temperature_avg',\n",
       "  'noise_level',\n",
       "  'air_quality_index',\n",
       "  'age_years'],\n",
       " 'target': 'valuation_k',\n",
       " 'metrics': {'mae_k': 82.7092, 'rmse_k': 101.8724, 'r2': 0.282},\n",
       " 'generated_at': '2025-07-19T16:09:13.261646Z',\n",
       " 'feature_importance_top5': [{'feature': 'size_m2',\n",
       "   'importance': 0.7312063540803266},\n",
       "  {'feature': 'year_built', 'importance': 0.029560496520703257},\n",
       "  {'feature': 'humidity_level', 'importance': 0.027331626340557257},\n",
       "  {'feature': 'air_quality_index', 'importance': 0.026413472362091128},\n",
       "  {'feature': 'temperature_avg', 'importance': 0.02505122699465619}]}"
      ]
     },
     "execution_count": 2,
     "metadata": {},
     "output_type": "execute_result"
    }
   ],
   "source": [
    "pipeline = joblib.load(PIPELINE_PATH)\n",
    "\n",
    "with open(META_PATH, \"r\") as f:\n",
    "    model_meta = json.load(f)\n",
    "\n",
    "model_meta"
   ]
  },
  {
   "cell_type": "markdown",
   "id": "1d55eb44-9ea4-4092-a3d1-7c910a6c2e76",
   "metadata": {},
   "source": [
    "### Utility: feature expectations & validator"
   ]
  },
  {
   "cell_type": "code",
   "execution_count": 3,
   "id": "ae9985cd-a991-4471-8629-63b656695c92",
   "metadata": {},
   "outputs": [
    {
     "name": "stdout",
     "output_type": "stream",
     "text": [
      "Expected features: ['location', 'energy_class', 'has_elevator', 'has_garden', 'has_balcony', 'garage', 'size_m2', 'rooms', 'bathrooms', 'year_built', 'floor', 'building_floors', 'humidity_level', 'temperature_avg', 'noise_level', 'air_quality_index', 'age_years']\n"
     ]
    }
   ],
   "source": [
    "# Dalle metadata ricaviamo le feature ORIGINALI (prima dell'OHE)\n",
    "categorical_expected = model_meta[\"features_categorical\"]\n",
    "numeric_expected = model_meta[\"features_numeric\"]\n",
    "\n",
    "ALL_EXPECTED = categorical_expected + numeric_expected\n",
    "\n",
    "def validate_input_record(record: dict, strict=True):\n",
    "    \"\"\"\n",
    "    Controlla se tutte le feature attese sono presenti.\n",
    "    Se strict=True, segnala anche eventuali campi extra.\n",
    "    \"\"\"\n",
    "    missing = [f for f in ALL_EXPECTED if f not in record]\n",
    "    extras = [f for f in record if f not in ALL_EXPECTED]\n",
    "    \n",
    "    if missing:\n",
    "        raise ValueError(f\"Missing required features: {missing}\")\n",
    "    if strict and extras:\n",
    "        raise ValueError(f\"Unexpected extra features: {extras}\")\n",
    "    return True\n",
    "\n",
    "print(\"Expected features:\", ALL_EXPECTED)"
   ]
  },
  {
   "cell_type": "markdown",
   "id": "0341141f-3525-4d22-92f8-a68edc266946",
   "metadata": {},
   "source": [
    "### Definizione di un singolo sample manuale"
   ]
  },
  {
   "cell_type": "code",
   "execution_count": 4,
   "id": "1d920b40-4628-4766-a1f0-231f3487d26d",
   "metadata": {},
   "outputs": [
    {
     "name": "stdout",
     "output_type": "stream",
     "text": [
      "Sample validated.\n"
     ]
    }
   ],
   "source": [
    "sample_property = {\n",
    "    \"location\": \"Milan\",\n",
    "    \"size_m2\": 95,\n",
    "    \"rooms\": 4,\n",
    "    \"bathrooms\": 2,\n",
    "    \"year_built\": 1999,\n",
    "    \"floor\": 2,\n",
    "    \"building_floors\": 6,\n",
    "    \"has_elevator\": 1,\n",
    "    \"has_garden\": 0,\n",
    "    \"has_balcony\": 1,\n",
    "    \"garage\": 1,\n",
    "    \"energy_class\": \"B\",\n",
    "    \"humidity_level\": 50.0,\n",
    "    \"temperature_avg\": 20.5,\n",
    "    \"noise_level\": 40,\n",
    "    \"air_quality_index\": 70,\n",
    "    \"age_years\": datetime.utcnow().year - 1999  # deve essere presente se nel training\n",
    "}\n",
    "\n",
    "validate_input_record(sample_property)\n",
    "print(\"Sample validated.\")\n"
   ]
  },
  {
   "cell_type": "markdown",
   "id": "f53df569-abec-4acb-93a8-85c2354350ee",
   "metadata": {},
   "source": [
    "### Predizione singola"
   ]
  },
  {
   "cell_type": "code",
   "execution_count": 6,
   "id": "2ddd8d9e-2ac0-4371-be4d-18f3b78a6440",
   "metadata": {},
   "outputs": [
    {
     "name": "stdout",
     "output_type": "stream",
     "text": [
      "Predicted valuation_k: 211.364 (k€)\n"
     ]
    }
   ],
   "source": [
    "df_input = pd.DataFrame([sample_property])\n",
    "pred_value = pipeline.predict(df_input)[0]\n",
    "\n",
    "print(f\"Predicted valuation_k: {pred_value:.3f} (k€)\")"
   ]
  },
  {
   "cell_type": "markdown",
   "id": "4a87ecb6-8531-4cba-a6dc-1d28d2c13084",
   "metadata": {},
   "source": [
    "### Wrap in unified output schema (multi-RWA ready)"
   ]
  },
  {
   "cell_type": "code",
   "execution_count": 7,
   "id": "54f1349a-c432-448f-a598-612fa51e67a8",
   "metadata": {},
   "outputs": [
    {
     "data": {
      "text/plain": [
       "{'asset_id': 'asset_manual_0001',\n",
       " 'asset_type': 'property',\n",
       " 'timestamp': '2025-07-19T16:18:59Z',\n",
       " 'metrics': {'valuation_base_k': 211.364},\n",
       " 'flags': {'anomaly': False, 'needs_review': False},\n",
       " 'model_meta': {'value_model_version': 'v1',\n",
       "  'value_model_name': 'RandomForestRegressor'},\n",
       " 'offchain_refs': {'detail_report_hash': None, 'sensor_batch_hash': None}}"
      ]
     },
     "execution_count": 7,
     "metadata": {},
     "output_type": "execute_result"
    }
   ],
   "source": [
    "def build_output_schema(asset_id: str,\n",
    "                        asset_type: str,\n",
    "                        valuation_k: float,\n",
    "                        model_meta: dict,\n",
    "                        condition_score: float = None,\n",
    "                        risk_score: float = None,\n",
    "                        anomaly: bool = False,\n",
    "                        needs_review: bool = False,\n",
    "                        extra_metrics: dict = None):\n",
    "    \"\"\"\n",
    "    Crea un dizionario conforme al futuro schema multi-asset.\n",
    "    \"\"\"\n",
    "    out = {\n",
    "        \"asset_id\": asset_id,\n",
    "        \"asset_type\": asset_type,\n",
    "        \"timestamp\": datetime.utcnow().isoformat(timespec=\"seconds\") + \"Z\",\n",
    "        \"metrics\": {\n",
    "            \"valuation_base_k\": round(float(valuation_k), 3)\n",
    "        },\n",
    "        \"flags\": {\n",
    "            \"anomaly\": anomaly,\n",
    "            \"needs_review\": needs_review\n",
    "        },\n",
    "        \"model_meta\": {\n",
    "            \"value_model_version\": model_meta.get(\"model_version\"),\n",
    "            \"value_model_name\": model_meta.get(\"model_class\")\n",
    "        },\n",
    "        \"offchain_refs\": {\n",
    "            \"detail_report_hash\": None,\n",
    "            \"sensor_batch_hash\": None\n",
    "        }\n",
    "    }\n",
    "    \n",
    "    # Aggiungi condition/risk se disponibili\n",
    "    if condition_score is not None:\n",
    "        out[\"metrics\"][\"condition_score\"] = round(float(condition_score), 3)\n",
    "    if risk_score is not None:\n",
    "        out[\"metrics\"][\"risk_score\"] = round(float(risk_score), 3)\n",
    "        \n",
    "    # Aggiungi metriche extra arbitrarie\n",
    "    if extra_metrics:\n",
    "        for k, v in extra_metrics.items():\n",
    "            out[\"metrics\"][k] = v\n",
    "    \n",
    "    return out\n",
    "\n",
    "# Per ora non abbiamo condition e risk calcolati dinamicamente a inferenza\n",
    "output_record = build_output_schema(\n",
    "    asset_id=\"asset_manual_0001\",\n",
    "    asset_type=\"property\",\n",
    "    valuation_k=pred_value,\n",
    "    model_meta=model_meta\n",
    ")\n",
    "\n",
    "output_record"
   ]
  },
  {
   "cell_type": "markdown",
   "id": "2a6fac87-59c9-4c72-8338-3258c69ce606",
   "metadata": {},
   "source": [
    "### Predizioni batch da un mini DataFrame"
   ]
  },
  {
   "cell_type": "code",
   "execution_count": 8,
   "id": "fee068f8-37fe-4d6e-9e08-1a27b4ecb5e2",
   "metadata": {},
   "outputs": [
    {
     "data": {
      "text/plain": [
       "[{'asset_id': 'asset_batch_Milan_95',\n",
       "  'asset_type': 'property',\n",
       "  'timestamp': '2025-07-19T16:19:23Z',\n",
       "  'metrics': {'valuation_base_k': 211.364},\n",
       "  'flags': {'anomaly': False, 'needs_review': False},\n",
       "  'model_meta': {'value_model_version': 'v1',\n",
       "   'value_model_name': 'RandomForestRegressor'},\n",
       "  'offchain_refs': {'detail_report_hash': None, 'sensor_batch_hash': None}},\n",
       " {'asset_id': 'asset_batch_Rome_120',\n",
       "  'asset_type': 'property',\n",
       "  'timestamp': '2025-07-19T16:19:23Z',\n",
       "  'metrics': {'valuation_base_k': 306.229},\n",
       "  'flags': {'anomaly': False, 'needs_review': False},\n",
       "  'model_meta': {'value_model_version': 'v1',\n",
       "   'value_model_name': 'RandomForestRegressor'},\n",
       "  'offchain_refs': {'detail_report_hash': None, 'sensor_batch_hash': None}}]"
      ]
     },
     "execution_count": 8,
     "metadata": {},
     "output_type": "execute_result"
    }
   ],
   "source": [
    "batch_samples = [\n",
    "    sample_property,\n",
    "    {**sample_property, \"location\": \"Rome\", \"size_m2\": 120, \"energy_class\": \"C\"},\n",
    "    {**sample_property, \"location\": \"Florence\", \"size_m2\": 70, \"has_garden\": 1, \"energy_class\": \"A\"}\n",
    "]\n",
    "\n",
    "for rec in batch_samples:\n",
    "    validate_input_record(rec)\n",
    "\n",
    "df_batch = pd.DataFrame(batch_samples)\n",
    "batch_preds = pipeline.predict(df_batch)\n",
    "\n",
    "batch_outputs = []\n",
    "for rec, val in zip(batch_samples, batch_preds):\n",
    "    batch_outputs.append(\n",
    "        build_output_schema(\n",
    "            asset_id=f\"asset_batch_{rec['location']}_{rec['size_m2']}\",\n",
    "            asset_type=\"property\",\n",
    "            valuation_k=val,\n",
    "            model_meta=model_meta\n",
    "        )\n",
    "    )\n",
    "\n",
    "batch_outputs[:2]"
   ]
  },
  {
   "cell_type": "markdown",
   "id": "c9b30533-6431-4327-8c9a-b781ecd1601f",
   "metadata": {},
   "source": [
    "### Logging dei risultati"
   ]
  },
  {
   "cell_type": "code",
   "execution_count": 9,
   "id": "cb4b3446-a1ba-4b53-9cd2-83ae069e8b1f",
   "metadata": {},
   "outputs": [
    {
     "name": "stdout",
     "output_type": "stream",
     "text": [
      "Appended 4 prediction records to ..\\data\\predictions_log.jsonl\n"
     ]
    }
   ],
   "source": [
    "LOG_PATH = Path(\"../data/predictions_log.jsonl\")\n",
    "\n",
    "def append_jsonl(record: dict, path: Path):\n",
    "    with path.open(\"a\", encoding=\"utf-8\") as f:\n",
    "        f.write(json.dumps(record) + \"\\n\")\n",
    "\n",
    "append_jsonl(output_record, LOG_PATH)\n",
    "\n",
    "for rec in batch_outputs:\n",
    "    append_jsonl(rec, LOG_PATH)\n",
    "\n",
    "print(f\"Appended {1 + len(batch_outputs)} prediction records to {LOG_PATH}\")\n"
   ]
  },
  {
   "cell_type": "markdown",
   "id": "fbc82054-05e6-4bc5-99a4-46d015820d74",
   "metadata": {},
   "source": [
    "### Funzione di inferenza riutilizzabile"
   ]
  },
  {
   "cell_type": "code",
   "execution_count": 10,
   "id": "1b190e70-f17f-4b47-beb3-0631ac1a6b73",
   "metadata": {},
   "outputs": [
    {
     "data": {
      "text/plain": [
       "{'asset_id': 'asset_function_test',\n",
       " 'asset_type': 'property',\n",
       " 'timestamp': '2025-07-19T16:20:19Z',\n",
       " 'metrics': {'valuation_base_k': 211.364},\n",
       " 'flags': {'anomaly': False, 'needs_review': False},\n",
       " 'model_meta': {'value_model_version': 'v1',\n",
       "  'value_model_name': 'RandomForestRegressor'},\n",
       " 'offchain_refs': {'detail_report_hash': None, 'sensor_batch_hash': None}}"
      ]
     },
     "execution_count": 10,
     "metadata": {},
     "output_type": "execute_result"
    }
   ],
   "source": [
    "def predict_asset(record: dict,\n",
    "                  asset_id: str,\n",
    "                  asset_type: str = \"property\",\n",
    "                  pipeline_path=PIPELINE_PATH,\n",
    "                  meta_path=META_PATH):\n",
    "    \"\"\"\n",
    "    Carica pipeline (se non già in memoria), valida record, predice e ritorna lo schema standard.\n",
    "    \"\"\"\n",
    "    validate_input_record(record)\n",
    "    df_in = pd.DataFrame([record])\n",
    "    val = pipeline.predict(df_in)[0]\n",
    "    return build_output_schema(\n",
    "        asset_id=asset_id,\n",
    "        asset_type=asset_type,\n",
    "        valuation_k=val,\n",
    "        model_meta=model_meta\n",
    "    )\n",
    "\n",
    "test_out = predict_asset(sample_property, asset_id=\"asset_function_test\")\n",
    "test_out\n"
   ]
  },
  {
   "cell_type": "markdown",
   "id": "b507a90c-a003-40e6-a97c-d4763895ba1c",
   "metadata": {},
   "source": [
    "###  Quick sanity checks"
   ]
  },
  {
   "cell_type": "code",
   "execution_count": 11,
   "id": "e1622a58-f3cd-47b3-8e5b-efe2cc2eadcd",
   "metadata": {
    "scrolled": true
   },
   "outputs": [
    {
     "data": {
      "text/html": [
       "<div>\n",
       "<style scoped>\n",
       "    .dataframe tbody tr th:only-of-type {\n",
       "        vertical-align: middle;\n",
       "    }\n",
       "\n",
       "    .dataframe tbody tr th {\n",
       "        vertical-align: top;\n",
       "    }\n",
       "\n",
       "    .dataframe thead th {\n",
       "        text-align: right;\n",
       "    }\n",
       "</style>\n",
       "<table border=\"1\" class=\"dataframe\">\n",
       "  <thead>\n",
       "    <tr style=\"text-align: right;\">\n",
       "      <th></th>\n",
       "      <th>size_m2</th>\n",
       "      <th>prediction_k</th>\n",
       "    </tr>\n",
       "  </thead>\n",
       "  <tbody>\n",
       "    <tr>\n",
       "      <th>0</th>\n",
       "      <td>60</td>\n",
       "      <td>118.846</td>\n",
       "    </tr>\n",
       "    <tr>\n",
       "      <th>1</th>\n",
       "      <td>90</td>\n",
       "      <td>190.490</td>\n",
       "    </tr>\n",
       "    <tr>\n",
       "      <th>2</th>\n",
       "      <td>130</td>\n",
       "      <td>310.285</td>\n",
       "    </tr>\n",
       "    <tr>\n",
       "      <th>3</th>\n",
       "      <td>170</td>\n",
       "      <td>391.535</td>\n",
       "    </tr>\n",
       "  </tbody>\n",
       "</table>\n",
       "</div>"
      ],
      "text/plain": [
       "   size_m2  prediction_k\n",
       "0       60       118.846\n",
       "1       90       190.490\n",
       "2      130       310.285\n",
       "3      170       391.535"
      ]
     },
     "execution_count": 11,
     "metadata": {},
     "output_type": "execute_result"
    }
   ],
   "source": [
    "# Confronta predizioni modificate su feature chiave (es. size_m2)\n",
    "sizes = [60, 90, 130, 170]\n",
    "size_records = []\n",
    "for s in sizes:\n",
    "    rec = {**sample_property, \"size_m2\": s}\n",
    "    val = pipeline.predict(pd.DataFrame([rec]))[0]\n",
    "    size_records.append({\"size_m2\": s, \"prediction_k\": round(float(val), 3)})\n",
    "\n",
    "pd.DataFrame(size_records)\n"
   ]
  },
  {
   "cell_type": "code",
   "execution_count": null,
   "id": "19e300ae-4875-4c0e-aebe-ecf115edc718",
   "metadata": {},
   "outputs": [],
   "source": []
  }
 ],
 "metadata": {
  "kernelspec": {
   "display_name": "Python 3 (ipykernel)",
   "language": "python",
   "name": "python3"
  },
  "language_info": {
   "codemirror_mode": {
    "name": "ipython",
    "version": 3
   },
   "file_extension": ".py",
   "mimetype": "text/x-python",
   "name": "python",
   "nbconvert_exporter": "python",
   "pygments_lexer": "ipython3",
   "version": "3.11.13"
  }
 },
 "nbformat": 4,
 "nbformat_minor": 5
}
