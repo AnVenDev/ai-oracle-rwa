{
 "cells": [
  {
   "cell_type": "markdown",
   "id": "8cc119a1-28bd-47af-8a5d-38204c005bdf",
   "metadata": {},
   "source": [
    "### Imports and dataset upload"
   ]
  },
  {
   "cell_type": "code",
   "execution_count": 10,
   "id": "ba165936-c2d9-4dd5-b388-62912b63f069",
   "metadata": {},
   "outputs": [],
   "source": [
    "import pandas as pd\n",
    "import numpy as np\n",
    "import json, time, os\n",
    "from datetime import datetime\n",
    "\n",
    "from sklearn.model_selection import train_test_split\n",
    "from sklearn.preprocessing import OneHotEncoder\n",
    "from sklearn.compose import ColumnTransformer\n",
    "from sklearn.pipeline import Pipeline\n",
    "from sklearn.ensemble import RandomForestRegressor\n",
    "from sklearn.metrics import mean_absolute_error, mean_squared_error, r2_score\n",
    "import joblib\n",
    "\n",
    "DATA_PATH = \"../data/property_dataset_mvp_multi_rwa.csv\"\n",
    "MODEL_BASE_DIR = \"../models\"\n",
    "ASSET_TYPE = \"property\"  # in futuro: \"art\", \"greenhouse\", etc.\n",
    "\n",
    "# Config multi-asset (estendibile)\n",
    "ASSET_CONFIG = {\n",
    "    \"property\": {\n",
    "        \"target\": \"valuation_k\",\n",
    "        \"categorical\": [\"location\", \"energy_class\", \"has_elevator\",\n",
    "                        \"has_garden\", \"has_balcony\", \"garage\"],\n",
    "        \"numeric\": [\"size_m2\", \"rooms\", \"bathrooms\", \"year_built\",\n",
    "                    \"floor\", \"building_floors\", \"humidity_level\",\n",
    "                    \"temperature_avg\", \"noise_level\", \"air_quality_index\"],\n",
    "        # features che NON devono essere usate (ID, derivati, ecc.)\n",
    "        \"exclude\": [\"asset_id\", \"asset_type\", \"condition_score\", \"risk_score\", \"last_verified_ts\"]\n",
    "    },\n",
    "    # Example placeholder per futuro\n",
    "    \"art\": {\n",
    "        \"target\": \"valuation_k\",        # o cambierai\n",
    "        \"categorical\": [],              # placeholder\n",
    "        \"numeric\": [],                  # placeholder\n",
    "        \"exclude\": []\n",
    "    }\n",
    "}"
   ]
  },
  {
   "cell_type": "markdown",
   "id": "2c0f3f96-b7be-48ff-a9b2-2c9b9569cb63",
   "metadata": {},
   "source": [
    "### Load dataset & derive generic features"
   ]
  },
  {
   "cell_type": "code",
   "execution_count": 11,
   "id": "38892f35-5a7d-488c-83d2-a99bca1e6fee",
   "metadata": {
    "scrolled": true
   },
   "outputs": [
    {
     "name": "stdout",
     "output_type": "stream",
     "text": [
      "Dataset shape: (150, 23)\n"
     ]
    },
    {
     "data": {
      "text/html": [
       "<div>\n",
       "<style scoped>\n",
       "    .dataframe tbody tr th:only-of-type {\n",
       "        vertical-align: middle;\n",
       "    }\n",
       "\n",
       "    .dataframe tbody tr th {\n",
       "        vertical-align: top;\n",
       "    }\n",
       "\n",
       "    .dataframe thead th {\n",
       "        text-align: right;\n",
       "    }\n",
       "</style>\n",
       "<table border=\"1\" class=\"dataframe\">\n",
       "  <thead>\n",
       "    <tr style=\"text-align: right;\">\n",
       "      <th></th>\n",
       "      <th>asset_id</th>\n",
       "      <th>asset_type</th>\n",
       "      <th>location</th>\n",
       "      <th>size_m2</th>\n",
       "      <th>rooms</th>\n",
       "      <th>bathrooms</th>\n",
       "      <th>year_built</th>\n",
       "      <th>floor</th>\n",
       "      <th>building_floors</th>\n",
       "      <th>has_elevator</th>\n",
       "      <th>...</th>\n",
       "      <th>energy_class</th>\n",
       "      <th>humidity_level</th>\n",
       "      <th>temperature_avg</th>\n",
       "      <th>noise_level</th>\n",
       "      <th>air_quality_index</th>\n",
       "      <th>valuation_k</th>\n",
       "      <th>condition_score</th>\n",
       "      <th>risk_score</th>\n",
       "      <th>last_verified_ts</th>\n",
       "      <th>age_years</th>\n",
       "    </tr>\n",
       "  </thead>\n",
       "  <tbody>\n",
       "    <tr>\n",
       "      <th>0</th>\n",
       "      <td>asset_0000</td>\n",
       "      <td>property</td>\n",
       "      <td>Palermo</td>\n",
       "      <td>170</td>\n",
       "      <td>6</td>\n",
       "      <td>2</td>\n",
       "      <td>1979</td>\n",
       "      <td>1</td>\n",
       "      <td>9</td>\n",
       "      <td>1</td>\n",
       "      <td>...</td>\n",
       "      <td>A</td>\n",
       "      <td>69.7</td>\n",
       "      <td>20.0</td>\n",
       "      <td>77</td>\n",
       "      <td>51</td>\n",
       "      <td>217.10</td>\n",
       "      <td>0.730</td>\n",
       "      <td>0.261</td>\n",
       "      <td>2025-07-17T15:32:04Z</td>\n",
       "      <td>46</td>\n",
       "    </tr>\n",
       "    <tr>\n",
       "      <th>1</th>\n",
       "      <td>asset_0001</td>\n",
       "      <td>property</td>\n",
       "      <td>Palermo</td>\n",
       "      <td>54</td>\n",
       "      <td>4</td>\n",
       "      <td>3</td>\n",
       "      <td>2013</td>\n",
       "      <td>0</td>\n",
       "      <td>3</td>\n",
       "      <td>0</td>\n",
       "      <td>...</td>\n",
       "      <td>B</td>\n",
       "      <td>64.4</td>\n",
       "      <td>20.8</td>\n",
       "      <td>28</td>\n",
       "      <td>68</td>\n",
       "      <td>91.77</td>\n",
       "      <td>0.822</td>\n",
       "      <td>0.191</td>\n",
       "      <td>2025-07-05T01:00:04Z</td>\n",
       "      <td>12</td>\n",
       "    </tr>\n",
       "    <tr>\n",
       "      <th>2</th>\n",
       "      <td>asset_0002</td>\n",
       "      <td>property</td>\n",
       "      <td>Palermo</td>\n",
       "      <td>48</td>\n",
       "      <td>3</td>\n",
       "      <td>1</td>\n",
       "      <td>1951</td>\n",
       "      <td>3</td>\n",
       "      <td>7</td>\n",
       "      <td>1</td>\n",
       "      <td>...</td>\n",
       "      <td>B</td>\n",
       "      <td>47.6</td>\n",
       "      <td>13.6</td>\n",
       "      <td>27</td>\n",
       "      <td>76</td>\n",
       "      <td>90.58</td>\n",
       "      <td>0.776</td>\n",
       "      <td>0.216</td>\n",
       "      <td>2025-06-28T07:28:04Z</td>\n",
       "      <td>74</td>\n",
       "    </tr>\n",
       "    <tr>\n",
       "      <th>3</th>\n",
       "      <td>asset_0003</td>\n",
       "      <td>property</td>\n",
       "      <td>Rome</td>\n",
       "      <td>171</td>\n",
       "      <td>3</td>\n",
       "      <td>2</td>\n",
       "      <td>1955</td>\n",
       "      <td>1</td>\n",
       "      <td>5</td>\n",
       "      <td>1</td>\n",
       "      <td>...</td>\n",
       "      <td>D</td>\n",
       "      <td>37.4</td>\n",
       "      <td>24.6</td>\n",
       "      <td>45</td>\n",
       "      <td>73</td>\n",
       "      <td>591.70</td>\n",
       "      <td>0.764</td>\n",
       "      <td>0.254</td>\n",
       "      <td>2025-06-27T03:59:04Z</td>\n",
       "      <td>70</td>\n",
       "    </tr>\n",
       "    <tr>\n",
       "      <th>4</th>\n",
       "      <td>asset_0004</td>\n",
       "      <td>property</td>\n",
       "      <td>Palermo</td>\n",
       "      <td>87</td>\n",
       "      <td>5</td>\n",
       "      <td>1</td>\n",
       "      <td>2011</td>\n",
       "      <td>4</td>\n",
       "      <td>9</td>\n",
       "      <td>1</td>\n",
       "      <td>...</td>\n",
       "      <td>A</td>\n",
       "      <td>40.9</td>\n",
       "      <td>22.8</td>\n",
       "      <td>45</td>\n",
       "      <td>118</td>\n",
       "      <td>190.65</td>\n",
       "      <td>0.857</td>\n",
       "      <td>0.146</td>\n",
       "      <td>2025-07-13T22:19:04Z</td>\n",
       "      <td>14</td>\n",
       "    </tr>\n",
       "  </tbody>\n",
       "</table>\n",
       "<p>5 rows × 23 columns</p>\n",
       "</div>"
      ],
      "text/plain": [
       "     asset_id asset_type location  size_m2  rooms  bathrooms  year_built  \\\n",
       "0  asset_0000   property  Palermo      170      6          2        1979   \n",
       "1  asset_0001   property  Palermo       54      4          3        2013   \n",
       "2  asset_0002   property  Palermo       48      3          1        1951   \n",
       "3  asset_0003   property     Rome      171      3          2        1955   \n",
       "4  asset_0004   property  Palermo       87      5          1        2011   \n",
       "\n",
       "   floor  building_floors  has_elevator  ...  energy_class  humidity_level  \\\n",
       "0      1                9             1  ...             A            69.7   \n",
       "1      0                3             0  ...             B            64.4   \n",
       "2      3                7             1  ...             B            47.6   \n",
       "3      1                5             1  ...             D            37.4   \n",
       "4      4                9             1  ...             A            40.9   \n",
       "\n",
       "   temperature_avg noise_level  air_quality_index  valuation_k  \\\n",
       "0             20.0          77                 51       217.10   \n",
       "1             20.8          28                 68        91.77   \n",
       "2             13.6          27                 76        90.58   \n",
       "3             24.6          45                 73       591.70   \n",
       "4             22.8          45                118       190.65   \n",
       "\n",
       "   condition_score  risk_score      last_verified_ts  age_years  \n",
       "0            0.730       0.261  2025-07-17T15:32:04Z         46  \n",
       "1            0.822       0.191  2025-07-05T01:00:04Z         12  \n",
       "2            0.776       0.216  2025-06-28T07:28:04Z         74  \n",
       "3            0.764       0.254  2025-06-27T03:59:04Z         70  \n",
       "4            0.857       0.146  2025-07-13T22:19:04Z         14  \n",
       "\n",
       "[5 rows x 23 columns]"
      ]
     },
     "execution_count": 11,
     "metadata": {},
     "output_type": "execute_result"
    }
   ],
   "source": [
    "df = pd.read_csv(DATA_PATH)\n",
    "assert ASSET_TYPE in ASSET_CONFIG, f\"Unknown asset_type: {ASSET_TYPE}\"\n",
    "\n",
    "cfg = ASSET_CONFIG[ASSET_TYPE]\n",
    "\n",
    "# Derivata generica (asset age) – non la aggiungi se già esiste\n",
    "if \"age_years\" not in df.columns and \"year_built\" in df.columns:\n",
    "    current_year = datetime.utcnow().year\n",
    "    df[\"age_years\"] = current_year - df[\"year_built\"]\n",
    "    # Aggiungila al config numerico\n",
    "    if \"age_years\" not in cfg[\"numeric\"]:\n",
    "        cfg[\"numeric\"].append(\"age_years\")\n",
    "\n",
    "print(\"Dataset shape:\", df.shape)\n",
    "df.head()"
   ]
  },
  {
   "cell_type": "markdown",
   "id": "1464b649-6910-4394-99a5-2aa5de8de615",
   "metadata": {},
   "source": [
    "### Build feature matrix & target dynamically"
   ]
  },
  {
   "cell_type": "code",
   "execution_count": 12,
   "id": "d4dfa9e0-0ac6-49eb-928d-be0a6be3ebad",
   "metadata": {},
   "outputs": [
    {
     "name": "stdout",
     "output_type": "stream",
     "text": [
      "Candidate feature columns: ['location', 'size_m2', 'rooms', 'bathrooms', 'year_built', 'floor', 'building_floors', 'has_elevator', 'has_garden', 'has_balcony', 'garage', 'energy_class', 'humidity_level', 'temperature_avg', 'noise_level', 'air_quality_index', 'age_years']\n"
     ]
    }
   ],
   "source": [
    "all_excluded = set(cfg[\"exclude\"] + [cfg[\"target\"]])\n",
    "candidate_cols = [c for c in df.columns if c not in all_excluded]\n",
    "\n",
    "# Controllo incrocio (debug)\n",
    "print(\"Candidate feature columns:\", candidate_cols)\n",
    "\n",
    "X = df[candidate_cols]\n",
    "y = df[cfg[\"target\"]]"
   ]
  },
  {
   "cell_type": "markdown",
   "id": "435ca228-e810-4fd2-bebc-a332bf48a1bf",
   "metadata": {},
   "source": [
    "### Select effective categorical/numeric subsets"
   ]
  },
  {
   "cell_type": "code",
   "execution_count": 13,
   "id": "0ac1fb33-527e-4c38-bfea-a7cf320c5eb6",
   "metadata": {},
   "outputs": [
    {
     "name": "stdout",
     "output_type": "stream",
     "text": [
      "Categorical used: ['location', 'energy_class', 'has_elevator', 'has_garden', 'has_balcony', 'garage']\n",
      "Numeric used: ['size_m2', 'rooms', 'bathrooms', 'year_built', 'floor', 'building_floors', 'humidity_level', 'temperature_avg', 'noise_level', 'air_quality_index', 'age_years']\n"
     ]
    }
   ],
   "source": [
    "categorical_cols = [c for c in cfg[\"categorical\"] if c in X.columns]\n",
    "numeric_cols = [c for c in cfg[\"numeric\"] if c in X.columns]\n",
    "\n",
    "print(\"Categorical used:\", categorical_cols)\n",
    "print(\"Numeric used:\", numeric_cols)"
   ]
  },
  {
   "cell_type": "markdown",
   "id": "8f52f374-6709-430c-913a-3fac4f8d6ede",
   "metadata": {},
   "source": [
    "### Features preparation"
   ]
  },
  {
   "cell_type": "code",
   "execution_count": 4,
   "id": "f77ca210-e406-41f7-a0dc-b4a1b9f11541",
   "metadata": {},
   "outputs": [],
   "source": [
    "# Target\n",
    "target = \"valuation_k\"\n",
    "\n",
    "# Feature selezionate (escludiamo asset_id e il target)\n",
    "features = [\n",
    "    \"location\", \"size_m2\", \"rooms\", \"bathrooms\", \"year_built\", \"floor\",\n",
    "    \"building_floors\", \"has_elevator\", \"has_garden\", \"has_balcony\", \"garage\",\n",
    "    \"energy_class\", \"humidity_level\", \"temperature_avg\", \"noise_level\", \"air_quality_index\"\n",
    "]\n",
    "\n",
    "X = df[features]\n",
    "y = df[target]"
   ]
  },
  {
   "cell_type": "markdown",
   "id": "9c92bff9-66c2-406c-9b0a-bf24dc629b3d",
   "metadata": {},
   "source": [
    "### Preprocessing + Model Pipeline"
   ]
  },
  {
   "cell_type": "code",
   "execution_count": 14,
   "id": "90c40184-3ef1-46fa-b4f6-393c54dd6aa8",
   "metadata": {},
   "outputs": [],
   "source": [
    "preprocessor = ColumnTransformer(\n",
    "    transformers=[\n",
    "        (\"cat\", OneHotEncoder(handle_unknown=\"ignore\"), categorical_cols),\n",
    "        (\"num\", \"passthrough\", numeric_cols)\n",
    "    ],\n",
    "    remainder='drop'\n",
    ")\n",
    "\n",
    "model = RandomForestRegressor(\n",
    "    n_estimators=180,\n",
    "    random_state=42,\n",
    "    n_jobs=-1\n",
    ")\n",
    "\n",
    "pipeline = Pipeline(steps=[\n",
    "    (\"preprocessor\", preprocessor),\n",
    "    (\"model\", model)\n",
    "])"
   ]
  },
  {
   "cell_type": "markdown",
   "id": "0ea70bda-607a-40d2-aff9-6cf7108290ae",
   "metadata": {},
   "source": [
    "### Train/test split"
   ]
  },
  {
   "cell_type": "code",
   "execution_count": 16,
   "id": "f7632b35-fde2-4e0f-8161-15ab2e13eb6f",
   "metadata": {},
   "outputs": [],
   "source": [
    "X_train, X_test, y_train, y_test = train_test_split(X, y, test_size=0.20, random_state=42)"
   ]
  },
  {
   "cell_type": "markdown",
   "id": "0a8bc73e-c440-486d-b56c-721083d026b4",
   "metadata": {},
   "source": [
    "### Categorical features encoding"
   ]
  },
  {
   "cell_type": "code",
   "execution_count": 6,
   "id": "a68aecb7-07f1-4066-9cf9-964bc7ae4e1b",
   "metadata": {},
   "outputs": [],
   "source": [
    "categorical_cols = [\"location\", \"energy_class\"]\n",
    "numerical_cols = list(set(features) - set(categorical_cols))\n",
    "\n",
    "# One-hot encoding\n",
    "encoder = OneHotEncoder(sparse_output=False, handle_unknown='ignore')\n",
    "X_cat = encoder.fit_transform(X[categorical_cols])\n",
    "X_cat_df = pd.DataFrame(X_cat, columns=encoder.get_feature_names_out(categorical_cols))\n",
    "\n",
    "# Unione delle colonne\n",
    "X_encoded = pd.concat([X[numerical_cols].reset_index(drop=True), X_cat_df], axis=1)"
   ]
  },
  {
   "cell_type": "markdown",
   "id": "541cd27c-0ab8-4082-9c7e-4eb8cd0acfb1",
   "metadata": {},
   "source": [
    "### Split train/test"
   ]
  },
  {
   "cell_type": "code",
   "execution_count": 7,
   "id": "dd7224bc-3953-40b0-a9a4-c041fa48e060",
   "metadata": {
    "jupyter": {
     "source_hidden": true
    }
   },
   "outputs": [],
   "source": [
    "X_train, X_test, y_train, y_test = train_test_split(X_encoded, y, test_size=0.2, random_state=42)"
   ]
  },
  {
   "cell_type": "markdown",
   "id": "c1f55ce1-7969-4601-ad7d-40d67aeb6ea9",
   "metadata": {},
   "source": [
    "### Fit & Evaluate"
   ]
  },
  {
   "cell_type": "code",
   "execution_count": 23,
   "id": "1cab5c0b-60cc-4891-87a2-5ebd207180c7",
   "metadata": {},
   "outputs": [
    {
     "name": "stdout",
     "output_type": "stream",
     "text": [
      "MAE: 82.709 (k€)\n",
      "RMSE: 101.872 (k€)\n",
      "R²: 0.282\n"
     ]
    }
   ],
   "source": [
    "pipeline.fit(X_train, y_train)\n",
    "\n",
    "y_pred = pipeline.predict(X_test)\n",
    "\n",
    "mae = mean_absolute_error(y_test, y_pred)\n",
    "mse = mean_squared_error(y_test, y_pred)\n",
    "rmse = mse ** 0.5\n",
    "r2 = r2_score(y_test, y_pred)\n",
    "\n",
    "print(f\"MAE: {mae:.3f} (k€)\")\n",
    "print(f\"RMSE: {rmse:.3f} (k€)\")\n",
    "print(f\"R²: {r2:.3f}\")"
   ]
  },
  {
   "cell_type": "markdown",
   "id": "0b4578b1-e0f0-49fc-865e-9363c6fba6b9",
   "metadata": {},
   "source": [
    "### Feature Importance (approx.)"
   ]
  },
  {
   "cell_type": "code",
   "execution_count": 18,
   "id": "e448bb8e-8bd6-4c8e-901b-54d228c4483b",
   "metadata": {
    "scrolled": true
   },
   "outputs": [
    {
     "data": {
      "text/html": [
       "<div>\n",
       "<style scoped>\n",
       "    .dataframe tbody tr th:only-of-type {\n",
       "        vertical-align: middle;\n",
       "    }\n",
       "\n",
       "    .dataframe tbody tr th {\n",
       "        vertical-align: top;\n",
       "    }\n",
       "\n",
       "    .dataframe thead th {\n",
       "        text-align: right;\n",
       "    }\n",
       "</style>\n",
       "<table border=\"1\" class=\"dataframe\">\n",
       "  <thead>\n",
       "    <tr style=\"text-align: right;\">\n",
       "      <th></th>\n",
       "      <th>feature</th>\n",
       "      <th>importance</th>\n",
       "    </tr>\n",
       "  </thead>\n",
       "  <tbody>\n",
       "    <tr>\n",
       "      <th>23</th>\n",
       "      <td>size_m2</td>\n",
       "      <td>0.731206</td>\n",
       "    </tr>\n",
       "    <tr>\n",
       "      <th>26</th>\n",
       "      <td>year_built</td>\n",
       "      <td>0.029560</td>\n",
       "    </tr>\n",
       "    <tr>\n",
       "      <th>29</th>\n",
       "      <td>humidity_level</td>\n",
       "      <td>0.027332</td>\n",
       "    </tr>\n",
       "    <tr>\n",
       "      <th>32</th>\n",
       "      <td>air_quality_index</td>\n",
       "      <td>0.026413</td>\n",
       "    </tr>\n",
       "    <tr>\n",
       "      <th>30</th>\n",
       "      <td>temperature_avg</td>\n",
       "      <td>0.025051</td>\n",
       "    </tr>\n",
       "    <tr>\n",
       "      <th>33</th>\n",
       "      <td>age_years</td>\n",
       "      <td>0.023781</td>\n",
       "    </tr>\n",
       "    <tr>\n",
       "      <th>31</th>\n",
       "      <td>noise_level</td>\n",
       "      <td>0.019749</td>\n",
       "    </tr>\n",
       "    <tr>\n",
       "      <th>28</th>\n",
       "      <td>building_floors</td>\n",
       "      <td>0.019179</td>\n",
       "    </tr>\n",
       "    <tr>\n",
       "      <th>13</th>\n",
       "      <td>energy_class_F</td>\n",
       "      <td>0.014372</td>\n",
       "    </tr>\n",
       "    <tr>\n",
       "      <th>25</th>\n",
       "      <td>bathrooms</td>\n",
       "      <td>0.012918</td>\n",
       "    </tr>\n",
       "    <tr>\n",
       "      <th>24</th>\n",
       "      <td>rooms</td>\n",
       "      <td>0.010644</td>\n",
       "    </tr>\n",
       "    <tr>\n",
       "      <th>27</th>\n",
       "      <td>floor</td>\n",
       "      <td>0.008590</td>\n",
       "    </tr>\n",
       "    <tr>\n",
       "      <th>6</th>\n",
       "      <td>location_Rome</td>\n",
       "      <td>0.005114</td>\n",
       "    </tr>\n",
       "    <tr>\n",
       "      <th>8</th>\n",
       "      <td>energy_class_A</td>\n",
       "      <td>0.004285</td>\n",
       "    </tr>\n",
       "    <tr>\n",
       "      <th>17</th>\n",
       "      <td>has_garden_0</td>\n",
       "      <td>0.003640</td>\n",
       "    </tr>\n",
       "  </tbody>\n",
       "</table>\n",
       "</div>"
      ],
      "text/plain": [
       "              feature  importance\n",
       "23            size_m2    0.731206\n",
       "26         year_built    0.029560\n",
       "29     humidity_level    0.027332\n",
       "32  air_quality_index    0.026413\n",
       "30    temperature_avg    0.025051\n",
       "33          age_years    0.023781\n",
       "31        noise_level    0.019749\n",
       "28    building_floors    0.019179\n",
       "13     energy_class_F    0.014372\n",
       "25          bathrooms    0.012918\n",
       "24              rooms    0.010644\n",
       "27              floor    0.008590\n",
       "6       location_Rome    0.005114\n",
       "8      energy_class_A    0.004285\n",
       "17       has_garden_0    0.003640"
      ]
     },
     "execution_count": 18,
     "metadata": {},
     "output_type": "execute_result"
    }
   ],
   "source": [
    "# Ottieni nomi delle feature dopo l'encoding\n",
    "ohe = pipeline.named_steps[\"preprocessor\"].named_transformers_[\"cat\"]\n",
    "cat_feature_names = list(ohe.get_feature_names_out(categorical_cols))\n",
    "all_feature_names = cat_feature_names + numeric_cols\n",
    "\n",
    "importances = pipeline.named_steps[\"model\"].feature_importances_\n",
    "\n",
    "feat_imp = (pd.DataFrame({\n",
    "    \"feature\": all_feature_names,\n",
    "    \"importance\": importances\n",
    "}).sort_values(\"importance\", ascending=False))\n",
    "\n",
    "feat_imp.head(15)"
   ]
  },
  {
   "cell_type": "markdown",
   "id": "ce28f849-e40f-4a59-a427-02c3f107ece9",
   "metadata": {},
   "source": [
    "### Save pipeline & metadata (versioned)"
   ]
  },
  {
   "cell_type": "code",
   "execution_count": 24,
   "id": "df6b41de-e6d8-42b6-a345-8fcac5b82b61",
   "metadata": {},
   "outputs": [
    {
     "name": "stdout",
     "output_type": "stream",
     "text": [
      "Saved pipeline and metadata:\n",
      "../models/property/value_regressor_v1.joblib\n"
     ]
    }
   ],
   "source": [
    "model_dir = f\"{MODEL_BASE_DIR}/{ASSET_TYPE}\"\n",
    "os.makedirs(model_dir, exist_ok=True)\n",
    "\n",
    "model_version = \"v1\"  # increment manually or build logic\n",
    "pipeline_filename = f\"{model_dir}/value_regressor_{model_version}.joblib\"\n",
    "joblib.dump(pipeline, pipeline_filename)\n",
    "\n",
    "metadata = {\n",
    "    \"asset_type\": ASSET_TYPE,\n",
    "    \"model_task\": \"valuation_regression\",\n",
    "    \"model_version\": model_version,\n",
    "    \"model_class\": \"RandomForestRegressor\",\n",
    "    \"n_rows\": len(df),\n",
    "    \"training_rows\": len(X_train),\n",
    "    \"test_rows\": len(X_test),\n",
    "    \"features_categorical\": categorical_cols,\n",
    "    \"features_numeric\": numeric_cols,\n",
    "    \"target\": cfg[\"target\"],\n",
    "    \"metrics\": {\n",
    "        \"mae_k\": float(round(mae, 4)),\n",
    "        \"rmse_k\": float(round(rmse, 4)),\n",
    "        \"r2\": float(round(r2, 4))\n",
    "    },\n",
    "    \"generated_at\": datetime.utcnow().isoformat() + \"Z\",\n",
    "    \"feature_importance_top5\": feat_imp.head(5).to_dict(orient=\"records\")\n",
    "}\n",
    "\n",
    "with open(f\"{model_dir}/value_regressor_{model_version}_meta.json\", \"w\") as f:\n",
    "    json.dump(metadata, f, indent=2)\n",
    "\n",
    "print(\"Saved pipeline and metadata:\")\n",
    "print(pipeline_filename)"
   ]
  },
  {
   "cell_type": "code",
   "execution_count": 25,
   "id": "55429a04-2d75-4bde-b2db-cc15b4ef279d",
   "metadata": {},
   "outputs": [],
   "source": [
    "# Restituisce pipeline + meta\n",
    "def train_asset_model(asset_type: str, df: pd.DataFrame, version=\"v1\"):\n",
    "    cfg = ASSET_CONFIG[asset_type]"
   ]
  }
 ],
 "metadata": {
  "kernelspec": {
   "display_name": "Python 3 (ipykernel)",
   "language": "python",
   "name": "python3"
  },
  "language_info": {
   "codemirror_mode": {
    "name": "ipython",
    "version": 3
   },
   "file_extension": ".py",
   "mimetype": "text/x-python",
   "name": "python",
   "nbconvert_exporter": "python",
   "pygments_lexer": "ipython3",
   "version": "3.11.13"
  }
 },
 "nbformat": 4,
 "nbformat_minor": 5
}
